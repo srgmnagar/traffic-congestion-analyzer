{
 "cells": [
  {
   "cell_type": "code",
   "execution_count": 2,
   "id": "77274e34-1b4f-4227-9155-1261f9e63892",
   "metadata": {},
   "outputs": [],
   "source": [
    "import pandas as pd\n",
    "import sqlite3"
   ]
  },
  {
   "cell_type": "code",
   "execution_count": 7,
   "id": "c54be3b2-9f71-46e6-aa51-9372497d568c",
   "metadata": {},
   "outputs": [
    {
     "name": "stdout",
     "output_type": "stream",
     "text": [
      "Data Shape: (1146, 9)\n",
      "   id location_name      lat      lon                   timestamp  \\\n",
      "0   1         Dadar  19.0176  72.8562  2025-07-23T23:25:24.659867   \n",
      "1   2       Andheri  19.1197  72.8468  2025-07-23T23:25:25.672796   \n",
      "2   3         Powai  19.1197  72.9051  2025-07-23T23:25:26.528793   \n",
      "3   4        Colaba  18.9067  72.8147  2025-07-23T23:25:27.154680   \n",
      "4   5        Panvel  18.9894  73.1175  2025-07-23T23:25:27.893369   \n",
      "\n",
      "   current_speed  free_flow_speed  confidence road_class  \n",
      "0           27.0             27.0         1.0    Unknown  \n",
      "1           22.0             22.0         1.0    Unknown  \n",
      "2           31.0             31.0         1.0    Unknown  \n",
      "3           23.0             23.0         1.0    Unknown  \n",
      "4           21.0             21.0         1.0    Unknown  \n"
     ]
    }
   ],
   "source": [
    "db_path = \"../data/traffic_data.db\"\n",
    "conn=sqlite3.connect(db_path)\n",
    "df=pd.read_sql_query('select * from traffic_data',conn)\n",
    "\n",
    "print(\"Data Shape:\", df.shape)\n",
    "print(df.head())"
   ]
  },
  {
   "cell_type": "code",
   "execution_count": 4,
   "id": "c623ec76-04b7-4ee7-8077-4adb88589c5d",
   "metadata": {},
   "outputs": [
    {
     "name": "stdout",
     "output_type": "stream",
     "text": [
      "Shape: (1146, 14)\n",
      "   id location_name      lat      lon                   timestamp  \\\n",
      "0   1         Dadar  19.0176  72.8562  2025-07-23 23:25:24.659867   \n",
      "1   2       Andheri  19.1197  72.8468  2025-07-23 23:25:25.672796   \n",
      "2   3         Powai  19.1197  72.9051  2025-07-23 23:25:26.528793   \n",
      "3   4        Colaba  18.9067  72.8147  2025-07-23 23:25:27.154680   \n",
      "4   5        Panvel  18.9894  73.1175  2025-07-23 23:25:27.893369   \n",
      "\n",
      "   current_speed  free_flow_speed  confidence road_class  is_weekend  \\\n",
      "0           27.0             27.0         1.0    Unknown           0   \n",
      "1           22.0             22.0         1.0    Unknown           0   \n",
      "2           31.0             31.0         1.0    Unknown           0   \n",
      "3           23.0             23.0         1.0    Unknown           0   \n",
      "4           21.0             21.0         1.0    Unknown           0   \n",
      "\n",
      "   is_rush_hour  congestion_level  traffic_ratio  speed_drop_percent  \n",
      "0             0               0.0            1.0                 0.0  \n",
      "1             0               0.0            1.0                 0.0  \n",
      "2             0               0.0            1.0                 0.0  \n",
      "3             0               0.0            1.0                 0.0  \n",
      "4             0               0.0            1.0                 0.0  \n"
     ]
    }
   ],
   "source": [
    "import sqlite3\n",
    "import pandas as pd\n",
    "\n",
    "db_path = \"../data/traffic_data.db\"\n",
    "conn = sqlite3.connect(db_path)\n",
    "\n",
    "df = pd.read_sql_query(\"SELECT * FROM traffic_data_enriched\", conn)\n",
    "conn.close()\n",
    "\n",
    "print(\"Shape:\", df.shape)\n",
    "print(df.head())\n"
   ]
  },
  {
   "cell_type": "code",
   "execution_count": 8,
   "id": "00199ab4-b06d-42ec-a79f-7eade5f1daa3",
   "metadata": {},
   "outputs": [
    {
     "name": "stdout",
     "output_type": "stream",
     "text": [
      "✅ Enriched data saved to table 'traffic_data_enriched'\n"
     ]
    }
   ],
   "source": [
    "df['timestamp'] = pd.to_datetime(df['timestamp'])\n",
    "\n",
    "# ➤ Add only required derived columns\n",
    "df['is_weekend'] = df['timestamp'].dt.weekday.isin([5,6]).astype(int)\n",
    "df['is_rush_hour'] = df['timestamp'].dt.hour.isin([7,8,9,17,18,19]).astype(int)\n",
    "df['congestion_level'] = df['free_flow_speed'] - df['current_speed']\n",
    "df['traffic_ratio'] = df['current_speed'] / df['free_flow_speed']\n",
    "df['speed_drop_percent'] = (1 - (df['current_speed'] / df['free_flow_speed'])) * 100\n",
    "\n",
    "\n",
    "# Replace infinities & NaNs in ratio\n",
    "df['traffic_ratio'] = df['traffic_ratio'].replace([float('inf'), -float('inf')], None)\n",
    "\n",
    "# ➤ Save as enriched table\n",
    "df.to_sql(\"traffic_data_enriched\", conn, if_exists=\"replace\", index=False)\n",
    "\n",
    "print(\"✅ Enriched data saved to table 'traffic_data_enriched'\")"
   ]
  },
  {
   "cell_type": "code",
   "execution_count": 4,
   "id": "2fff1dc2-f298-4bc0-bd13-c6d8f2769ad7",
   "metadata": {},
   "outputs": [
    {
     "name": "stdout",
     "output_type": "stream",
     "text": [
      "Shape: (1146, 14)\n",
      "   id location_name      lat      lon                   timestamp  \\\n",
      "0   1         Dadar  19.0176  72.8562  2025-07-23 23:25:24.659867   \n",
      "1   2       Andheri  19.1197  72.8468  2025-07-23 23:25:25.672796   \n",
      "2   3         Powai  19.1197  72.9051  2025-07-23 23:25:26.528793   \n",
      "3   4        Colaba  18.9067  72.8147  2025-07-23 23:25:27.154680   \n",
      "4   5        Panvel  18.9894  73.1175  2025-07-23 23:25:27.893369   \n",
      "\n",
      "   current_speed  free_flow_speed  confidence road_class  is_weekend  \\\n",
      "0           27.0             27.0         1.0    Unknown           0   \n",
      "1           22.0             22.0         1.0    Unknown           0   \n",
      "2           31.0             31.0         1.0    Unknown           0   \n",
      "3           23.0             23.0         1.0    Unknown           0   \n",
      "4           21.0             21.0         1.0    Unknown           0   \n",
      "\n",
      "   is_rush_hour  congestion_level  traffic_ratio  speed_drop_percent  \n",
      "0             0               0.0            1.0                 0.0  \n",
      "1             0               0.0            1.0                 0.0  \n",
      "2             0               0.0            1.0                 0.0  \n",
      "3             0               0.0            1.0                 0.0  \n",
      "4             0               0.0            1.0                 0.0  \n"
     ]
    }
   ],
   "source": [
    "import sqlite3\n",
    "import pandas as pd\n",
    "\n",
    "db_path = \"../data/traffic_data.db\"\n",
    "conn = sqlite3.connect(db_path)\n",
    "\n",
    "df = pd.read_sql_query(\"SELECT * FROM traffic_data_enriched\", conn)\n",
    "conn.close()\n",
    "\n",
    "print(\"Shape:\", df.shape)\n",
    "print(df.head())\n"
   ]
  },
  {
   "cell_type": "code",
   "execution_count": 8,
   "id": "e268f1fd",
   "metadata": {},
   "outputs": [
    {
     "name": "stdout",
     "output_type": "stream",
     "text": [
      "<class 'pandas.core.frame.DataFrame'>\n",
      "RangeIndex: 1146 entries, 0 to 1145\n",
      "Data columns (total 14 columns):\n",
      " #   Column              Non-Null Count  Dtype         \n",
      "---  ------              --------------  -----         \n",
      " 0   id                  1146 non-null   int64         \n",
      " 1   location_name       1146 non-null   object        \n",
      " 2   lat                 1146 non-null   float64       \n",
      " 3   lon                 1146 non-null   float64       \n",
      " 4   timestamp           1146 non-null   datetime64[ns]\n",
      " 5   current_speed       1146 non-null   float64       \n",
      " 6   free_flow_speed     1146 non-null   float64       \n",
      " 7   confidence          1146 non-null   float64       \n",
      " 8   road_class          1146 non-null   object        \n",
      " 9   is_weekend          1146 non-null   int64         \n",
      " 10  is_rush_hour        1146 non-null   int64         \n",
      " 11  congestion_level    1146 non-null   float64       \n",
      " 12  traffic_ratio       1146 non-null   float64       \n",
      " 13  speed_drop_percent  1146 non-null   float64       \n",
      "dtypes: datetime64[ns](1), float64(8), int64(3), object(2)\n",
      "memory usage: 125.5+ KB\n"
     ]
    }
   ],
   "source": [
    "df.info()"
   ]
  },
  {
   "cell_type": "code",
   "execution_count": 7,
   "id": "bf67a7de",
   "metadata": {},
   "outputs": [],
   "source": [
    "df['timestamp'] = pd.to_datetime(df['timestamp'])"
   ]
  },
  {
   "cell_type": "code",
   "execution_count": 9,
   "id": "0913dab7-3e88-42d7-86b4-e9fb386d4a06",
   "metadata": {},
   "outputs": [
    {
     "data": {
      "text/plain": [
       "<bound method NDFrame.head of         id location_name      lat      lon                  timestamp  \\\n",
       "0        1         Dadar  19.0176  72.8562 2025-07-23 23:25:24.659867   \n",
       "1        2       Andheri  19.1197  72.8468 2025-07-23 23:25:25.672796   \n",
       "2        3         Powai  19.1197  72.9051 2025-07-23 23:25:26.528793   \n",
       "3        4        Colaba  18.9067  72.8147 2025-07-23 23:25:27.154680   \n",
       "4        5        Panvel  18.9894  73.1175 2025-07-23 23:25:27.893369   \n",
       "...    ...           ...      ...      ...                        ...   \n",
       "1141  1142        Panvel  18.9894  73.1175 2025-07-26 16:33:18.137767   \n",
       "1142  1143        Airoli  19.1551  72.9960 2025-07-26 16:33:18.865597   \n",
       "1143  1144         Vashi  19.0760  72.9986 2025-07-26 16:33:19.355936   \n",
       "1144  1145         Nerul  19.0334  73.0186 2025-07-26 16:33:19.870760   \n",
       "1145  1146      Kharghar  19.0330  73.0633 2025-07-26 16:33:20.327741   \n",
       "\n",
       "      current_speed  free_flow_speed  confidence road_class  is_weekend  \\\n",
       "0              27.0             27.0    1.000000    Unknown           0   \n",
       "1              22.0             22.0    1.000000    Unknown           0   \n",
       "2              31.0             31.0    1.000000    Unknown           0   \n",
       "3              23.0             23.0    1.000000    Unknown           0   \n",
       "4              21.0             21.0    1.000000    Unknown           0   \n",
       "...             ...              ...         ...        ...         ...   \n",
       "1141           21.0             21.0    1.000000    Unknown           1   \n",
       "1142           13.0             15.0    0.871303    Unknown           1   \n",
       "1143           19.0             24.0    0.997606    Unknown           1   \n",
       "1144           19.0             19.0    1.000000    Unknown           1   \n",
       "1145           21.0             21.0    1.000000    Unknown           1   \n",
       "\n",
       "      is_rush_hour  congestion_level  traffic_ratio  speed_drop_percent  \n",
       "0                0               0.0       1.000000            0.000000  \n",
       "1                0               0.0       1.000000            0.000000  \n",
       "2                0               0.0       1.000000            0.000000  \n",
       "3                0               0.0       1.000000            0.000000  \n",
       "4                0               0.0       1.000000            0.000000  \n",
       "...            ...               ...            ...                 ...  \n",
       "1141             0               0.0       1.000000            0.000000  \n",
       "1142             0               2.0       0.866667           13.333333  \n",
       "1143             0               5.0       0.791667           20.833333  \n",
       "1144             0               0.0       1.000000            0.000000  \n",
       "1145             0               0.0       1.000000            0.000000  \n",
       "\n",
       "[1146 rows x 14 columns]>"
      ]
     },
     "execution_count": 9,
     "metadata": {},
     "output_type": "execute_result"
    }
   ],
   "source": [
    "df.head"
   ]
  },
  {
   "cell_type": "code",
   "execution_count": 10,
   "id": "19e5f6df-847e-46f7-bdb8-f9685571846e",
   "metadata": {},
   "outputs": [
    {
     "data": {
      "text/html": [
       "<div>\n",
       "<style scoped>\n",
       "    .dataframe tbody tr th:only-of-type {\n",
       "        vertical-align: middle;\n",
       "    }\n",
       "\n",
       "    .dataframe tbody tr th {\n",
       "        vertical-align: top;\n",
       "    }\n",
       "\n",
       "    .dataframe thead th {\n",
       "        text-align: right;\n",
       "    }\n",
       "</style>\n",
       "<table border=\"1\" class=\"dataframe\">\n",
       "  <thead>\n",
       "    <tr style=\"text-align: right;\">\n",
       "      <th></th>\n",
       "      <th>id</th>\n",
       "      <th>lat</th>\n",
       "      <th>lon</th>\n",
       "      <th>timestamp</th>\n",
       "      <th>current_speed</th>\n",
       "      <th>free_flow_speed</th>\n",
       "      <th>confidence</th>\n",
       "      <th>is_weekend</th>\n",
       "      <th>is_rush_hour</th>\n",
       "      <th>congestion_level</th>\n",
       "      <th>traffic_ratio</th>\n",
       "      <th>speed_drop_percent</th>\n",
       "    </tr>\n",
       "  </thead>\n",
       "  <tbody>\n",
       "    <tr>\n",
       "      <th>count</th>\n",
       "      <td>1146.00000</td>\n",
       "      <td>1146.000000</td>\n",
       "      <td>1146.000000</td>\n",
       "      <td>1146</td>\n",
       "      <td>1146.000000</td>\n",
       "      <td>1146.000000</td>\n",
       "      <td>1146.000000</td>\n",
       "      <td>1146.000000</td>\n",
       "      <td>1146.000000</td>\n",
       "      <td>1146.000000</td>\n",
       "      <td>1146.000000</td>\n",
       "      <td>1146.000000</td>\n",
       "    </tr>\n",
       "    <tr>\n",
       "      <th>mean</th>\n",
       "      <td>573.50000</td>\n",
       "      <td>19.050160</td>\n",
       "      <td>72.957192</td>\n",
       "      <td>2025-07-25 06:39:52.283887616</td>\n",
       "      <td>19.950262</td>\n",
       "      <td>22.470332</td>\n",
       "      <td>0.976619</td>\n",
       "      <td>0.214660</td>\n",
       "      <td>0.094241</td>\n",
       "      <td>2.520070</td>\n",
       "      <td>0.892421</td>\n",
       "      <td>10.757871</td>\n",
       "    </tr>\n",
       "    <tr>\n",
       "      <th>min</th>\n",
       "      <td>1.00000</td>\n",
       "      <td>18.906700</td>\n",
       "      <td>72.814700</td>\n",
       "      <td>2025-07-23 23:25:24.659867</td>\n",
       "      <td>6.000000</td>\n",
       "      <td>14.000000</td>\n",
       "      <td>0.609692</td>\n",
       "      <td>0.000000</td>\n",
       "      <td>0.000000</td>\n",
       "      <td>0.000000</td>\n",
       "      <td>0.375000</td>\n",
       "      <td>0.000000</td>\n",
       "    </tr>\n",
       "    <tr>\n",
       "      <th>25%</th>\n",
       "      <td>287.25000</td>\n",
       "      <td>19.017600</td>\n",
       "      <td>72.856200</td>\n",
       "      <td>2025-07-24 14:58:58.699296256</td>\n",
       "      <td>17.000000</td>\n",
       "      <td>21.000000</td>\n",
       "      <td>0.985766</td>\n",
       "      <td>0.000000</td>\n",
       "      <td>0.000000</td>\n",
       "      <td>0.000000</td>\n",
       "      <td>0.772727</td>\n",
       "      <td>0.000000</td>\n",
       "    </tr>\n",
       "    <tr>\n",
       "      <th>50%</th>\n",
       "      <td>573.50000</td>\n",
       "      <td>19.033400</td>\n",
       "      <td>72.996000</td>\n",
       "      <td>2025-07-25 11:54:08.036718592</td>\n",
       "      <td>20.000000</td>\n",
       "      <td>22.000000</td>\n",
       "      <td>1.000000</td>\n",
       "      <td>0.000000</td>\n",
       "      <td>0.000000</td>\n",
       "      <td>0.000000</td>\n",
       "      <td>1.000000</td>\n",
       "      <td>0.000000</td>\n",
       "    </tr>\n",
       "    <tr>\n",
       "      <th>75%</th>\n",
       "      <td>859.75000</td>\n",
       "      <td>19.119700</td>\n",
       "      <td>73.018600</td>\n",
       "      <td>2025-07-25 22:51:39.171272448</td>\n",
       "      <td>22.000000</td>\n",
       "      <td>24.000000</td>\n",
       "      <td>1.000000</td>\n",
       "      <td>0.000000</td>\n",
       "      <td>0.000000</td>\n",
       "      <td>5.000000</td>\n",
       "      <td>1.000000</td>\n",
       "      <td>22.727273</td>\n",
       "    </tr>\n",
       "    <tr>\n",
       "      <th>max</th>\n",
       "      <td>1146.00000</td>\n",
       "      <td>19.155100</td>\n",
       "      <td>73.117500</td>\n",
       "      <td>2025-07-26 16:33:20.327741</td>\n",
       "      <td>31.000000</td>\n",
       "      <td>31.000000</td>\n",
       "      <td>1.000000</td>\n",
       "      <td>1.000000</td>\n",
       "      <td>1.000000</td>\n",
       "      <td>10.000000</td>\n",
       "      <td>1.000000</td>\n",
       "      <td>62.500000</td>\n",
       "    </tr>\n",
       "    <tr>\n",
       "      <th>std</th>\n",
       "      <td>330.96601</td>\n",
       "      <td>0.072466</td>\n",
       "      <td>0.099663</td>\n",
       "      <td>NaN</td>\n",
       "      <td>4.435089</td>\n",
       "      <td>4.362153</td>\n",
       "      <td>0.053245</td>\n",
       "      <td>0.410765</td>\n",
       "      <td>0.292291</td>\n",
       "      <td>3.071781</td>\n",
       "      <td>0.129363</td>\n",
       "      <td>12.936283</td>\n",
       "    </tr>\n",
       "  </tbody>\n",
       "</table>\n",
       "</div>"
      ],
      "text/plain": [
       "               id          lat          lon                      timestamp  \\\n",
       "count  1146.00000  1146.000000  1146.000000                           1146   \n",
       "mean    573.50000    19.050160    72.957192  2025-07-25 06:39:52.283887616   \n",
       "min       1.00000    18.906700    72.814700     2025-07-23 23:25:24.659867   \n",
       "25%     287.25000    19.017600    72.856200  2025-07-24 14:58:58.699296256   \n",
       "50%     573.50000    19.033400    72.996000  2025-07-25 11:54:08.036718592   \n",
       "75%     859.75000    19.119700    73.018600  2025-07-25 22:51:39.171272448   \n",
       "max    1146.00000    19.155100    73.117500     2025-07-26 16:33:20.327741   \n",
       "std     330.96601     0.072466     0.099663                            NaN   \n",
       "\n",
       "       current_speed  free_flow_speed   confidence   is_weekend  is_rush_hour  \\\n",
       "count    1146.000000      1146.000000  1146.000000  1146.000000   1146.000000   \n",
       "mean       19.950262        22.470332     0.976619     0.214660      0.094241   \n",
       "min         6.000000        14.000000     0.609692     0.000000      0.000000   \n",
       "25%        17.000000        21.000000     0.985766     0.000000      0.000000   \n",
       "50%        20.000000        22.000000     1.000000     0.000000      0.000000   \n",
       "75%        22.000000        24.000000     1.000000     0.000000      0.000000   \n",
       "max        31.000000        31.000000     1.000000     1.000000      1.000000   \n",
       "std         4.435089         4.362153     0.053245     0.410765      0.292291   \n",
       "\n",
       "       congestion_level  traffic_ratio  speed_drop_percent  \n",
       "count       1146.000000    1146.000000         1146.000000  \n",
       "mean           2.520070       0.892421           10.757871  \n",
       "min            0.000000       0.375000            0.000000  \n",
       "25%            0.000000       0.772727            0.000000  \n",
       "50%            0.000000       1.000000            0.000000  \n",
       "75%            5.000000       1.000000           22.727273  \n",
       "max           10.000000       1.000000           62.500000  \n",
       "std            3.071781       0.129363           12.936283  "
      ]
     },
     "execution_count": 10,
     "metadata": {},
     "output_type": "execute_result"
    }
   ],
   "source": [
    "df.describe()"
   ]
  },
  {
   "cell_type": "code",
   "execution_count": 11,
   "id": "6c0a5341-7064-42b9-8ba7-0f87bcbfb691",
   "metadata": {},
   "outputs": [
    {
     "data": {
      "text/plain": [
       "location_name\n",
       "Dadar       128\n",
       "Andheri     128\n",
       "Powai       128\n",
       "Colaba      127\n",
       "Panvel      127\n",
       "Airoli      127\n",
       "Vashi       127\n",
       "Nerul       127\n",
       "Kharghar    127\n",
       "Name: count, dtype: int64"
      ]
     },
     "execution_count": 11,
     "metadata": {},
     "output_type": "execute_result"
    }
   ],
   "source": [
    "df['location_name'].value_counts()"
   ]
  },
  {
   "cell_type": "code",
   "execution_count": 12,
   "id": "11c5b56d-e926-463a-b76e-ee192cbb635b",
   "metadata": {},
   "outputs": [
    {
     "data": {
      "text/plain": [
       "is_weekend\n",
       "0    900\n",
       "1    246\n",
       "Name: count, dtype: int64"
      ]
     },
     "execution_count": 12,
     "metadata": {},
     "output_type": "execute_result"
    }
   ],
   "source": [
    "df['is_weekend'].value_counts()"
   ]
  },
  {
   "cell_type": "code",
   "execution_count": 13,
   "id": "4cfe5f0a-a11a-4a42-9194-392abafadbd1",
   "metadata": {},
   "outputs": [
    {
     "data": {
      "text/plain": [
       "is_rush_hour\n",
       "0    1038\n",
       "1     108\n",
       "Name: count, dtype: int64"
      ]
     },
     "execution_count": 13,
     "metadata": {},
     "output_type": "execute_result"
    }
   ],
   "source": [
    "df['is_rush_hour'].value_counts()"
   ]
  },
  {
   "cell_type": "code",
   "execution_count": 15,
   "id": "bc055753-e072-48fd-8071-15d0a01b2588",
   "metadata": {},
   "outputs": [
    {
     "data": {
      "text/plain": [
       "np.int64(0)"
      ]
     },
     "execution_count": 15,
     "metadata": {},
     "output_type": "execute_result"
    }
   ],
   "source": [
    "df.duplicated().sum()"
   ]
  },
  {
   "cell_type": "code",
   "execution_count": 18,
   "id": "7596b0f0-1bb9-4656-b330-fc250b7255d3",
   "metadata": {},
   "outputs": [
    {
     "data": {
      "text/plain": [
       "id                    0\n",
       "location_name         0\n",
       "lat                   0\n",
       "lon                   0\n",
       "timestamp             0\n",
       "current_speed         0\n",
       "free_flow_speed       0\n",
       "confidence            0\n",
       "road_class            0\n",
       "is_weekend            0\n",
       "is_rush_hour          0\n",
       "congestion_level      0\n",
       "traffic_ratio         0\n",
       "speed_drop_percent    0\n",
       "dtype: int64"
      ]
     },
     "execution_count": 18,
     "metadata": {},
     "output_type": "execute_result"
    }
   ],
   "source": [
    "df.isnull().sum()"
   ]
  },
  {
   "cell_type": "code",
   "execution_count": 20,
   "id": "9e4e571d-6f08-4cd9-9086-0ba66e367764",
   "metadata": {},
   "outputs": [
    {
     "data": {
      "text/html": [
       "<div>\n",
       "<style scoped>\n",
       "    .dataframe tbody tr th:only-of-type {\n",
       "        vertical-align: middle;\n",
       "    }\n",
       "\n",
       "    .dataframe tbody tr th {\n",
       "        vertical-align: top;\n",
       "    }\n",
       "\n",
       "    .dataframe thead th {\n",
       "        text-align: right;\n",
       "    }\n",
       "</style>\n",
       "<table border=\"1\" class=\"dataframe\">\n",
       "  <thead>\n",
       "    <tr style=\"text-align: right;\">\n",
       "      <th></th>\n",
       "      <th>id</th>\n",
       "      <th>location_name</th>\n",
       "      <th>lat</th>\n",
       "      <th>lon</th>\n",
       "      <th>timestamp</th>\n",
       "      <th>current_speed</th>\n",
       "      <th>free_flow_speed</th>\n",
       "      <th>confidence</th>\n",
       "      <th>road_class</th>\n",
       "      <th>is_weekend</th>\n",
       "      <th>is_rush_hour</th>\n",
       "      <th>congestion_level</th>\n",
       "      <th>traffic_ratio</th>\n",
       "      <th>speed_drop_percent</th>\n",
       "    </tr>\n",
       "  </thead>\n",
       "  <tbody>\n",
       "  </tbody>\n",
       "</table>\n",
       "</div>"
      ],
      "text/plain": [
       "Empty DataFrame\n",
       "Columns: [id, location_name, lat, lon, timestamp, current_speed, free_flow_speed, confidence, road_class, is_weekend, is_rush_hour, congestion_level, traffic_ratio, speed_drop_percent]\n",
       "Index: []"
      ]
     },
     "execution_count": 20,
     "metadata": {},
     "output_type": "execute_result"
    }
   ],
   "source": [
    "df[(df['traffic_ratio'] > 1.2) & (df['traffic_ratio']< 0)]\n"
   ]
  },
  {
   "cell_type": "code",
   "execution_count": 21,
   "id": "40a64681-2a01-4ee4-bbca-fe05648cfb22",
   "metadata": {},
   "outputs": [
    {
     "data": {
      "text/plain": [
       "array(['Dadar', 'Andheri', 'Powai', 'Colaba', 'Panvel', 'Airoli', 'Vashi',\n",
       "       'Nerul', 'Kharghar'], dtype=object)"
      ]
     },
     "execution_count": 21,
     "metadata": {},
     "output_type": "execute_result"
    }
   ],
   "source": [
    "df['location_name'].unique()\n"
   ]
  },
  {
   "cell_type": "code",
   "execution_count": null,
   "id": "7d3d7f6b-51ed-4c46-a16d-1977a9d611ec",
   "metadata": {},
   "outputs": [],
   "source": []
  }
 ],
 "metadata": {
  "kernelspec": {
   "display_name": "Python 3 (ipykernel)",
   "language": "python",
   "name": "python3"
  },
  "language_info": {
   "codemirror_mode": {
    "name": "ipython",
    "version": 3
   },
   "file_extension": ".py",
   "mimetype": "text/x-python",
   "name": "python",
   "nbconvert_exporter": "python",
   "pygments_lexer": "ipython3",
   "version": "3.12.4"
  },
  "widgets": {
   "application/vnd.jupyter.widget-state+json": {
    "state": {},
    "version_major": 2,
    "version_minor": 0
   }
  }
 },
 "nbformat": 4,
 "nbformat_minor": 5
}
