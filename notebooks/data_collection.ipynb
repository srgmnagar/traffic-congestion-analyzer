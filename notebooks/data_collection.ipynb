{
 "cells": [
  {
   "cell_type": "code",
   "execution_count": 1,
   "id": "9ec1c771-6cb7-4d13-bb1b-f0710e61d2e4",
   "metadata": {},
   "outputs": [],
   "source": [
    "import requests\n",
    "import pandas as pd\n",
    "import datetime"
   ]
  },
  {
   "cell_type": "code",
   "execution_count": 5,
   "id": "cd4dbc8f",
   "metadata": {},
   "outputs": [
    {
     "name": "stdout",
     "output_type": "stream",
     "text": [
      "Latitude: 19.0989941, Longitude: 72.8395499\n"
     ]
    }
   ],
   "source": [
    "import requests\n",
    "\n",
    "api_key = \"fjbIvblscE9aaoZhczJxUaZQuJAeGtsu\" \n",
    "from urllib.parse import quote\n",
    "\n",
    "def get_coordinates(address, api_key):\n",
    "    encoded_address = quote(address)\n",
    "    url = f\"https://api.tomtom.com/search/2/geocode/{encoded_address}.json?key={api_key}\"\n",
    "    \n",
    "    response = requests.get(url)\n",
    "    data = response.json()\n",
    "\n",
    "    if data[\"results\"]:\n",
    "        position = data[\"results\"][0][\"position\"]\n",
    "        lat = position[\"lat\"]\n",
    "        lon = position[\"lon\"]\n",
    "        return lat, lon\n",
    "    else:\n",
    "        return None, None\n",
    "\n",
    "address = \"15 Bhaktivedanta Swami Road, Vile Parle West, Mumbai, Maharashtra 400056\"\n",
    "\n",
    "\n",
    "lat, lon = get_coordinates(address, api_key)\n",
    "print(f\"Latitude: {lat}, Longitude: {lon}\")\n"
   ]
  },
  {
   "cell_type": "code",
   "execution_count": null,
   "id": "da5ede4f",
   "metadata": {},
   "outputs": [],
   "source": [
    "import requests\n",
    "\n",
    "def get_traffic_flow(lat, lon, api_key):\n",
    "    url = \"https://api.tomtom.com/traffic/services/4/flowSegmentData/absolute/10/json\"\n",
    "    params = {\n",
    "        \"point\": f\"{lat},{lon}\",\n",
    "        \"key\": api_key\n",
    "    }\n",
    "\n",
    "    response = requests.get(url, params=params)\n",
    "\n",
    "    if response.status_code == 200:\n",
    "        data = response.json()\n",
    "        print(data)\n",
    "        # print(\"🚗 Traffic Flow Info:\")\n",
    "        # current_speed = data['flowSegmentData']['currentSpeed']\n",
    "        # free_flow_speed = data['flowSegmentData']['freeFlowSpeed']\n",
    "        # confidence = data['flowSegmentData']['confidence']\n",
    "        # road_class = data['flowSegmentData']['frc']\n",
    "        \n",
    "        # print(f\"- Current Speed: {current_speed} km/h\")\n",
    "        # print(f\"- Free Flow Speed: {free_flow_speed} km/h\")\n",
    "        # print(f\"- Confidence: {confidence}\")\n",
    "        # print(f\"- Road Class: {road_class}\")\n",
    "    else:\n",
    "        print(\"❌ Error fetching traffic data:\", response.status_code)\n",
    "\n",
    "# Coordinates and API key\n",
    "lat = 19.0989941\n",
    "lon = 72.8395499\n",
    "api_key = \"fjbIvblscE9aaoZhczJxUaZQuJAeGtsu\"\n",
    "\n",
    "# Call the function\n",
    "get_traffic_flow(lat, lon, api_key)\n"
   ]
  },
  {
   "cell_type": "code",
   "execution_count": null,
   "id": "4bdd8447",
   "metadata": {},
   "outputs": [],
   "source": []
  }
 ],
 "metadata": {
  "kernelspec": {
   "display_name": "Python 3 (ipykernel)",
   "language": "python",
   "name": "python3"
  },
  "language_info": {
   "codemirror_mode": {
    "name": "ipython",
    "version": 3
   },
   "file_extension": ".py",
   "mimetype": "text/x-python",
   "name": "python",
   "nbconvert_exporter": "python",
   "pygments_lexer": "ipython3",
   "version": "3.12.4"
  },
  "widgets": {
   "application/vnd.jupyter.widget-state+json": {
    "state": {},
    "version_major": 2,
    "version_minor": 0
   }
  }
 },
 "nbformat": 4,
 "nbformat_minor": 5
}
